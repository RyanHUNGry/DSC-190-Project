{
 "cells": [
  {
   "cell_type": "code",
   "execution_count": 18,
   "metadata": {},
   "outputs": [],
   "source": [
    "import matplotlib.pyplot as plt\n",
    "import scipy\n",
    "import numpy as np\n",
    "import networkx as nx\n",
    "import torch\n",
    "import gzip\n",
    "\n",
    "import os\n",
    "import random"
   ]
  },
  {
   "cell_type": "markdown",
   "metadata": {},
   "source": [
    "Importing data"
   ]
  },
  {
   "cell_type": "code",
   "execution_count": 19,
   "metadata": {},
   "outputs": [],
   "source": [
    "data_dir = os.path.join(os.getcwd(), 'data')\n",
    "file_names = [\n",
    "    \"higgs-activity_time.txt.gz\",\n",
    "    \"higgs-mention_network.edgelist.gz\",\n",
    "    \"higgs-reply_network.edgelist.gz\",\n",
    "    \"higgs-retweet_network.edgelist.gz\",\n",
    "    \"higgs-social_network.edgelist.gz\",\n",
    "]"
   ]
  },
  {
   "cell_type": "code",
   "execution_count": 20,
   "metadata": {},
   "outputs": [
    {
     "name": "stdout",
     "output_type": "stream",
     "text": [
      "Loaded higgs-mention_network.edgelist.gz\n",
      "Loaded higgs-reply_network.edgelist.gz\n",
      "Loaded higgs-retweet_network.edgelist.gz\n"
     ]
    }
   ],
   "source": [
    "mentions: nx.classes.digraph.DiGraph = nx.read_weighted_edgelist(os.path.join(data_dir, file_names[1]), create_using=nx.DiGraph)\n",
    "print(f\"Loaded {file_names[1]}\")\n",
    "replys: nx.classes.digraph.DiGraph = nx.read_weighted_edgelist(os.path.join(data_dir, file_names[2]), create_using=nx.DiGraph)\n",
    "print(f\"Loaded {file_names[2]}\")\n",
    "retweets: nx.classes.digraph.DiGraph = nx.read_weighted_edgelist(os.path.join(data_dir, file_names[3]), create_using=nx.DiGraph)\n",
    "print(f\"Loaded {file_names[3]}\")\n",
    "# social = nx.read_edgelist(os.path.join(data_dir, file_names[4]), create_using=nx.DiGraph) # This file is around ~200MB, so I recommend only loading it by itself. It takes me ~4 minutes to load, and slows down the rest of the script when in-memory."
   ]
  },
  {
   "cell_type": "code",
   "execution_count": 10,
   "metadata": {},
   "outputs": [
    {
     "data": {
      "text/plain": [
       "['223789 213163 1341100972 MT',\n",
       " '223789 213163 1341100972 RE',\n",
       " '376989 50329 1341101181 RT']"
      ]
     },
     "execution_count": 10,
     "metadata": {},
     "output_type": "execute_result"
    }
   ],
   "source": [
    "activity_times = [] # Use this how you wish.\n",
    "with gzip.open(os.path.join(data_dir, file_names[0]), 'rt') as f:\n",
    "    for line in f:\n",
    "        activity_times.append(line.strip())\n",
    "activity_times[:3]"
   ]
  },
  {
   "cell_type": "markdown",
   "metadata": {},
   "source": [
    "Henry's Analysis Section:"
   ]
  },
  {
   "cell_type": "code",
   "execution_count": null,
   "metadata": {},
   "outputs": [],
   "source": [
    "# TODO"
   ]
  },
  {
   "cell_type": "markdown",
   "metadata": {},
   "source": [
    "Ryan's Analysis Section:"
   ]
  },
  {
   "cell_type": "code",
   "execution_count": 4,
   "metadata": {},
   "outputs": [],
   "source": [
    "# TODO"
   ]
  }
 ],
 "metadata": {
  "kernelspec": {
   "display_name": "Python 3",
   "language": "python",
   "name": "python3"
  },
  "language_info": {
   "codemirror_mode": {
    "name": "ipython",
    "version": 3
   },
   "file_extension": ".py",
   "mimetype": "text/x-python",
   "name": "python",
   "nbconvert_exporter": "python",
   "pygments_lexer": "ipython3",
   "version": "3.12.1"
  }
 },
 "nbformat": 4,
 "nbformat_minor": 2
}
